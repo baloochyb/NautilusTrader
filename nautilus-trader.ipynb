{
 "cells": [
  {
   "cell_type": "code",
   "execution_count": 2,
   "metadata": {},
   "outputs": [
    {
     "ename": "SyntaxError",
     "evalue": "(unicode error) 'unicodeescape' codec can't decode bytes in position 26-27: malformed \\N character escape (3176222707.py, line 26)",
     "output_type": "error",
     "traceback": [
      "\u001b[1;36m  Cell \u001b[1;32mIn[2], line 26\u001b[1;36m\u001b[0m\n\u001b[1;33m    ROOT = Path(\"D:\\Projects\\My Own Project\\NautilusTrader\").parent.parent\u001b[0m\n\u001b[1;37m                                                           ^\u001b[0m\n\u001b[1;31mSyntaxError\u001b[0m\u001b[1;31m:\u001b[0m (unicode error) 'unicodeescape' codec can't decode bytes in position 26-27: malformed \\N character escape\n"
     ]
    }
   ],
   "source": [
    "# -------------------------------------------------------------------------------------------------\n",
    "#  Copyright (C) 2015-2024 Nautech Systems Pty Ltd. All rights reserved.\n",
    "#  https://nautechsystems.io\n",
    "#\n",
    "#  Licensed under the GNU Lesser General Public License Version 3.0 (the \"License\");\n",
    "#  You may not use this file except in compliance with the License.\n",
    "#  You may obtain a copy of the License at https://www.gnu.org/licenses/lgpl-3.0.en.html\n",
    "#\n",
    "#  Unless required by applicable law or agreed to in writing, software\n",
    "#  distributed under the License is distributed on an \"AS IS\" BASIS,\n",
    "#  WITHOUT WARRANTIES OR CONDITIONS OF ANY KIND, either express or implied.\n",
    "#  See the License for the specific language governing permissions and\n",
    "#  limitations under the License.\n",
    "# -------------------------------------------------------------------------------------------------\n",
    "\n",
    "from os import PathLike\n",
    "from pathlib import Path\n",
    "import requests\n",
    "\n",
    "from nautilus_trader.persistence.catalog import ParquetDataCatalog\n",
    "from nautilus_trader.persistence.wranglers import QuoteTickDataWrangler\n",
    "from nautilus_trader.test_kit.providers import CSVTickDataLoader\n",
    "from nautilus_trader.test_kit.providers import TestInstrumentProvider\n",
    "\n",
    "\n",
    "ROOT = Path(\"D:\\Projects\\My Own Project\\NautilusTrader\").parent.parent\n",
    "CATALOG_DIR = ROOT / \"catalog\"\n",
    "CATALOG_DIR.mkdir(exist_ok=True)\n",
    "\n",
    "\n",
    "def load_fx_hist_data(\n",
    "    filename: str,\n",
    "    currency: str,\n",
    "    catalog_path: PathLike[str] | str,\n",
    ") -> None:\n",
    "    instrument = TestInstrumentProvider.default_fx_ccy(currency)\n",
    "    wrangler = QuoteTickDataWrangler(instrument)\n",
    "\n",
    "    df = CSVTickDataLoader.load(filename, index_col=0, datetime_format=\"%Y%m%d %H%M%S%f\")\n",
    "    df.columns = [\"bid_price\", \"ask_price\", \"size\"]\n",
    "    print(df)\n",
    "\n",
    "    print(\"Preparing ticks...\")\n",
    "    ticks = wrangler.process(df)\n",
    "\n",
    "    print(\"Writing data to catalog...\")\n",
    "    catalog = ParquetDataCatalog(catalog_path)\n",
    "    catalog.write_data([instrument])\n",
    "    catalog.write_data(ticks)\n",
    "\n",
    "    print(\"Done\")\n",
    "\n",
    "\n",
    "def download(url: str) -> None:\n",
    "    filename = url.rsplit(\"/\", maxsplit=1)[1]\n",
    "    with open(filename, \"wb\") as f:\n",
    "        f.write(requests.get(url).content)\n",
    "\n",
    "\n",
    "def main():\n",
    "    # Download raw data\n",
    "    download(\n",
    "        \"https://raw.githubusercontent.com/nautechsystems/nautilus_data/main/raw_data/fx_hist_data/DAT_ASCII_EURUSD_T_202001.csv.gz\",\n",
    "    )\n",
    "    load_fx_hist_data(\n",
    "        filename=\"DAT_ASCII_EURUSD_T_202001.csv.gz\",\n",
    "        currency=\"EUR/USD\",\n",
    "        catalog_path=CATALOG_DIR,\n",
    "    )\n",
    "\n",
    "\n",
    "if __name__ == \"__main__\":\n",
    "    main()"
   ]
  }
 ],
 "metadata": {
  "kernelspec": {
   "display_name": "Python 3",
   "language": "python",
   "name": "python3"
  },
  "language_info": {
   "codemirror_mode": {
    "name": "ipython",
    "version": 3
   },
   "file_extension": ".py",
   "mimetype": "text/x-python",
   "name": "python",
   "nbconvert_exporter": "python",
   "pygments_lexer": "ipython3",
   "version": "3.11.5"
  }
 },
 "nbformat": 4,
 "nbformat_minor": 2
}
